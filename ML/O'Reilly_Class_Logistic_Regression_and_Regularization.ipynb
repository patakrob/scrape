{
  "nbformat": 4,
  "nbformat_minor": 0,
  "metadata": {
    "colab": {
      "name": "O'Reilly Class: Logistic Regression and Regularization",
      "provenance": [],
      "include_colab_link": true
    },
    "kernelspec": {
      "name": "python3",
      "display_name": "Python 3"
    }
  },
  "cells": [
    {
      "cell_type": "markdown",
      "metadata": {
        "id": "view-in-github",
        "colab_type": "text"
      },
      "source": [
        "<a href=\"https://colab.research.google.com/github/patakrob/scrape/blob/main/O'Reilly_Class_Logistic_Regression_and_Regularization.ipynb\" target=\"_parent\"><img src=\"https://colab.research.google.com/assets/colab-badge.svg\" alt=\"Open In Colab\"/></a>"
      ]
    },
    {
      "cell_type": "markdown",
      "metadata": {
        "id": "P4QA_ru6Zcxd"
      },
      "source": [
        "#Import Libraries"
      ]
    },
    {
      "cell_type": "code",
      "metadata": {
        "id": "N905qjQAOoTz"
      },
      "source": [
        "import numpy as np\n",
        "import pandas as pd\n",
        "import pandas_datareader.data as pdr\n",
        "from datetime import datetime\n",
        "\n",
        "import matplotlib.pyplot as plt\n",
        "plt.style.use('seaborn')"
      ],
      "execution_count": null,
      "outputs": []
    },
    {
      "cell_type": "markdown",
      "metadata": {
        "id": "kVCQCu1rZnQO"
      },
      "source": [
        "#Import Data"
      ]
    },
    {
      "cell_type": "code",
      "metadata": {
        "id": "HdIgQ9GcJuqc"
      },
      "source": [
        "start = datetime(1982, 1, 1)\n",
        "end = datetime(2020, 2, 29)\n",
        "\n",
        "recession = pdr.DataReader('USREC', 'fred', start, end) #NBER business cycle classification\n",
        "yield_curve = pdr.DataReader('T10Y3MM', 'fred', start, end) #Difference between the 3 month and 10 year treasury yields\n",
        "unemployment = pdr.DataReader('UNRATE', 'fred', start, end) #Unemployment rate\n",
        "industrial_capacity = pdr.DataReader('TCU', 'fred', start, end) #Total industrial capacity utilization"
      ],
      "execution_count": null,
      "outputs": []
    },
    {
      "cell_type": "markdown",
      "metadata": {
        "id": "rOqvErxFZ12S"
      },
      "source": [
        "# Build and Train Model"
      ]
    },
    {
      "cell_type": "code",
      "metadata": {
        "id": "BpuwMh3PWXWe",
        "colab": {
          "base_uri": "https://localhost:8080/",
          "height": 235
        },
        "outputId": "525a80a0-ff35-4c24-96a0-f60898f3c1a8"
      },
      "source": [
        "#Create target dataframe\n",
        "target = recession[1:] #Align target and feature rows\n",
        "target.head()"
      ],
      "execution_count": null,
      "outputs": [
        {
          "output_type": "execute_result",
          "data": {
            "text/html": [
              "<div>\n",
              "<style scoped>\n",
              "    .dataframe tbody tr th:only-of-type {\n",
              "        vertical-align: middle;\n",
              "    }\n",
              "\n",
              "    .dataframe tbody tr th {\n",
              "        vertical-align: top;\n",
              "    }\n",
              "\n",
              "    .dataframe thead th {\n",
              "        text-align: right;\n",
              "    }\n",
              "</style>\n",
              "<table border=\"1\" class=\"dataframe\">\n",
              "  <thead>\n",
              "    <tr style=\"text-align: right;\">\n",
              "      <th></th>\n",
              "      <th>USREC</th>\n",
              "    </tr>\n",
              "    <tr>\n",
              "      <th>DATE</th>\n",
              "      <th></th>\n",
              "    </tr>\n",
              "  </thead>\n",
              "  <tbody>\n",
              "    <tr>\n",
              "      <th>1982-02-01</th>\n",
              "      <td>1</td>\n",
              "    </tr>\n",
              "    <tr>\n",
              "      <th>1982-03-01</th>\n",
              "      <td>1</td>\n",
              "    </tr>\n",
              "    <tr>\n",
              "      <th>1982-04-01</th>\n",
              "      <td>1</td>\n",
              "    </tr>\n",
              "    <tr>\n",
              "      <th>1982-05-01</th>\n",
              "      <td>1</td>\n",
              "    </tr>\n",
              "    <tr>\n",
              "      <th>1982-06-01</th>\n",
              "      <td>1</td>\n",
              "    </tr>\n",
              "  </tbody>\n",
              "</table>\n",
              "</div>"
            ],
            "text/plain": [
              "            USREC\n",
              "DATE             \n",
              "1982-02-01      1\n",
              "1982-03-01      1\n",
              "1982-04-01      1\n",
              "1982-05-01      1\n",
              "1982-06-01      1"
            ]
          },
          "metadata": {},
          "execution_count": 3
        }
      ]
    },
    {
      "cell_type": "code",
      "metadata": {
        "colab": {
          "base_uri": "https://localhost:8080/"
        },
        "id": "SXDJMnHmuNI_",
        "outputId": "c0c390f1-b6dc-440a-88cd-13a5bc8e258e"
      },
      "source": [
        "#Percentage of time the US economy was in recession since 1982\n",
        "round(target['USREC'].sum()/target['USREC'].count()*100, 2)"
      ],
      "execution_count": null,
      "outputs": [
        {
          "output_type": "execute_result",
          "data": {
            "text/plain": [
              "9.63"
            ]
          },
          "metadata": {},
          "execution_count": 4
        }
      ]
    },
    {
      "cell_type": "code",
      "metadata": {
        "id": "aPA4TpQsXR0t",
        "colab": {
          "base_uri": "https://localhost:8080/",
          "height": 235
        },
        "outputId": "fe8afe0e-5dce-4f7b-8bdb-17794ab48d96"
      },
      "source": [
        "#Create features dataframe\n",
        "features = pd.DataFrame()\n",
        "features['curve'] = yield_curve['T10Y3MM'].diff() #Difference between the yields of the 3 month bill and the 10 year note\n",
        "features['unemployment'] = unemployment['UNRATE'].diff()\n",
        "features['industrial'] = industrial_capacity['TCU'].diff()\n",
        "features = features.dropna()\n",
        "features.head()"
      ],
      "execution_count": null,
      "outputs": [
        {
          "output_type": "execute_result",
          "data": {
            "text/html": [
              "<div>\n",
              "<style scoped>\n",
              "    .dataframe tbody tr th:only-of-type {\n",
              "        vertical-align: middle;\n",
              "    }\n",
              "\n",
              "    .dataframe tbody tr th {\n",
              "        vertical-align: top;\n",
              "    }\n",
              "\n",
              "    .dataframe thead th {\n",
              "        text-align: right;\n",
              "    }\n",
              "</style>\n",
              "<table border=\"1\" class=\"dataframe\">\n",
              "  <thead>\n",
              "    <tr style=\"text-align: right;\">\n",
              "      <th></th>\n",
              "      <th>curve</th>\n",
              "      <th>unemployment</th>\n",
              "      <th>industrial</th>\n",
              "    </tr>\n",
              "    <tr>\n",
              "      <th>DATE</th>\n",
              "      <th></th>\n",
              "      <th></th>\n",
              "      <th></th>\n",
              "    </tr>\n",
              "  </thead>\n",
              "  <tbody>\n",
              "    <tr>\n",
              "      <th>1982-02-01</th>\n",
              "      <td>-1.52</td>\n",
              "      <td>0.3</td>\n",
              "      <td>1.3662</td>\n",
              "    </tr>\n",
              "    <tr>\n",
              "      <th>1982-03-01</th>\n",
              "      <td>0.40</td>\n",
              "      <td>0.1</td>\n",
              "      <td>-0.6701</td>\n",
              "    </tr>\n",
              "    <tr>\n",
              "      <th>1982-04-01</th>\n",
              "      <td>-0.02</td>\n",
              "      <td>0.3</td>\n",
              "      <td>-0.8362</td>\n",
              "    </tr>\n",
              "    <tr>\n",
              "      <th>1982-05-01</th>\n",
              "      <td>0.38</td>\n",
              "      <td>0.1</td>\n",
              "      <td>-0.6320</td>\n",
              "    </tr>\n",
              "    <tr>\n",
              "      <th>1982-06-01</th>\n",
              "      <td>0.31</td>\n",
              "      <td>0.2</td>\n",
              "      <td>-0.3165</td>\n",
              "    </tr>\n",
              "  </tbody>\n",
              "</table>\n",
              "</div>"
            ],
            "text/plain": [
              "            curve  unemployment  industrial\n",
              "DATE                                       \n",
              "1982-02-01  -1.52           0.3      1.3662\n",
              "1982-03-01   0.40           0.1     -0.6701\n",
              "1982-04-01  -0.02           0.3     -0.8362\n",
              "1982-05-01   0.38           0.1     -0.6320\n",
              "1982-06-01   0.31           0.2     -0.3165"
            ]
          },
          "metadata": {},
          "execution_count": 5
        }
      ]
    },
    {
      "cell_type": "code",
      "metadata": {
        "id": "MEWlNhcgcz7Y",
        "colab": {
          "base_uri": "https://localhost:8080/"
        },
        "outputId": "0d770081-b69a-4343-ea21-0ff6a20667cf"
      },
      "source": [
        "#Create logistic regression model\n",
        "from sklearn.linear_model import LogisticRegression\n",
        "from sklearn.preprocessing import StandardScaler\n",
        "\n",
        "#Need to covert column vector into a 1-d Numpy array\n",
        "target = np.ravel(target)\n",
        "\n",
        "classifier = LogisticRegression(random_state = 0)\n",
        "\n",
        "scaler = StandardScaler() #Scales input data so that it has a mean of zero and variance of one\n",
        "features_standardized = scaler.fit_transform(features) #Every feature now has zero mean and unit variance\n",
        "\n",
        "#Split dataset into train and test subsets. Test size is 25% of the total dataset\n",
        "from sklearn.model_selection import train_test_split\n",
        "\n",
        "features_train, features_test, target_train, target_test = train_test_split(features, target, test_size = 0.25, random_state=0)\n",
        "classifier.fit(features_train, target_train)\n",
        "print(\"Model coefficients:\", classifier.coef_)\n"
      ],
      "execution_count": null,
      "outputs": [
        {
          "output_type": "stream",
          "name": "stdout",
          "text": [
            "Model coefficients: [[ 1.1124784   3.12157688 -1.93397252]]\n"
          ]
        }
      ]
    },
    {
      "cell_type": "markdown",
      "metadata": {
        "id": "2cgCqCtYWuEg"
      },
      "source": [
        "#Evaluate and Predict"
      ]
    },
    {
      "cell_type": "code",
      "metadata": {
        "colab": {
          "base_uri": "https://localhost:8080/"
        },
        "id": "ENauetgkW0An",
        "outputId": "06b68243-b5e0-449c-c2bf-29e32c8186ae"
      },
      "source": [
        "print(\"Training score:\", classifier.score(features_train, target_train))\n",
        "print(\"Testing score:\", classifier.score(features_test, target_test))"
      ],
      "execution_count": null,
      "outputs": [
        {
          "output_type": "stream",
          "name": "stdout",
          "text": [
            "Training score: 0.9181286549707602\n",
            "Testing score: 0.9304347826086956\n"
          ]
        }
      ]
    },
    {
      "cell_type": "code",
      "metadata": {
        "id": "BU0G7_MSjAXS",
        "colab": {
          "base_uri": "https://localhost:8080/"
        },
        "outputId": "2b4ec362-d9f2-4257-f6d6-ca1605572609"
      },
      "source": [
        "#Use out-of-sample March data to predict recession\n",
        "new = [[0.61, 0.9, -4.2351]]\n",
        "classifier.predict(new)"
      ],
      "execution_count": null,
      "outputs": [
        {
          "output_type": "stream",
          "name": "stderr",
          "text": [
            "/usr/local/lib/python3.7/dist-packages/sklearn/base.py:446: UserWarning: X does not have valid feature names, but LogisticRegression was fitted with feature names\n",
            "  \"X does not have valid feature names, but\"\n"
          ]
        },
        {
          "output_type": "execute_result",
          "data": {
            "text/plain": [
              "array([1])"
            ]
          },
          "metadata": {},
          "execution_count": 10
        }
      ]
    },
    {
      "cell_type": "code",
      "metadata": {
        "id": "clSe6iEijbKt",
        "colab": {
          "base_uri": "https://localhost:8080/"
        },
        "outputId": "98001fe7-2684-449f-88bc-f68e0d64c3cf"
      },
      "source": [
        "#Quantify probability of recession\n",
        "classifier.predict_proba(new).round(2)\n"
      ],
      "execution_count": null,
      "outputs": [
        {
          "output_type": "execute_result",
          "data": {
            "text/plain": [
              "array([[0., 1.]])"
            ]
          },
          "metadata": {},
          "execution_count": 10
        }
      ]
    },
    {
      "cell_type": "markdown",
      "metadata": {
        "id": "8WY_hsKYZYPO"
      },
      "source": [
        "#Ridge Regression/L2 Regularization"
      ]
    },
    {
      "cell_type": "code",
      "metadata": {
        "colab": {
          "base_uri": "https://localhost:8080/"
        },
        "id": "tp36Edq4ai2t",
        "outputId": "aa9fabb4-984e-4fb2-c3f6-6869063926da"
      },
      "source": [
        " #Regularize logistic regression model with C hyperparameter. Reducing C increases regularization since it is the reciprocal of alpha. \n",
        "regularized_classifier2 = LogisticRegression(penalty='l2', C=0.1, random_state = 0) #L1 penalty is Lasso regression and L2 penalty is ridge regression\n",
        "\n",
        "regularized_classifier2.fit(features_train, target_train)\n",
        "print(\"Model coefficients:\", regularized_classifier2.coef_)"
      ],
      "execution_count": null,
      "outputs": [
        {
          "output_type": "stream",
          "name": "stdout",
          "text": [
            "Model coefficients: [[ 0.23390754  0.5814208  -1.02668254]]\n"
          ]
        }
      ]
    },
    {
      "cell_type": "code",
      "metadata": {
        "colab": {
          "base_uri": "https://localhost:8080/"
        },
        "id": "q7OT-B5zbJLn",
        "outputId": "c482899b-afd6-4d6b-90e1-3a97f3c39dde"
      },
      "source": [
        "print(\"Training score:\", regularized_classifier2.score(features_train, target_train))\n",
        "print(\"Testing score:\", regularized_classifier2.score(features_test, target_test))"
      ],
      "execution_count": null,
      "outputs": [
        {
          "output_type": "stream",
          "name": "stdout",
          "text": [
            "Training score: 0.9064327485380117\n",
            "Testing score: 0.9043478260869565\n"
          ]
        }
      ]
    },
    {
      "cell_type": "markdown",
      "metadata": {
        "id": "4Nu2SC64dpsb"
      },
      "source": [
        "#Lasso Regression/L1 Regularization"
      ]
    },
    {
      "cell_type": "code",
      "metadata": {
        "colab": {
          "base_uri": "https://localhost:8080/"
        },
        "id": "LHr5TsNPcpK2",
        "outputId": "1856133f-5cca-468f-c975-1573d12d4fec"
      },
      "source": [
        "#Regularize logistic regression model with C hyperparameter. Reducing C increases regularization since it is the reciprocal of alpha. \n",
        "regularized_classifier1 = LogisticRegression(penalty='l1', solver='liblinear', C=0.1, random_state = 0) #L1 penalty is Lasso regression and is not supported by the default solver\n",
        "\n",
        "regularized_classifier1.fit(features_train, target_train)\n",
        "print(\"Model coefficients:\", regularized_classifier1.coef_)"
      ],
      "execution_count": null,
      "outputs": [
        {
          "output_type": "stream",
          "name": "stdout",
          "text": [
            "Model coefficients: [[ 0.        0.       -0.944083]]\n"
          ]
        }
      ]
    },
    {
      "cell_type": "code",
      "metadata": {
        "colab": {
          "base_uri": "https://localhost:8080/"
        },
        "id": "0DQ-ay-2dZ4b",
        "outputId": "f5866753-70d2-470d-a047-3aa2043a1f34"
      },
      "source": [
        "print(\"Training score:\", regularized_classifier1.score(features_train, target_train))\n",
        "print(\"Testing score:\", regularized_classifier1.score(features_test, target_test))"
      ],
      "execution_count": null,
      "outputs": [
        {
          "output_type": "stream",
          "name": "stdout",
          "text": [
            "Training score: 0.9093567251461988\n",
            "Testing score: 0.9043478260869565\n"
          ]
        }
      ]
    },
    {
      "cell_type": "markdown",
      "metadata": {
        "id": "-zXn9X3nmouQ"
      },
      "source": [
        "# Model Evaluation"
      ]
    },
    {
      "cell_type": "code",
      "metadata": {
        "id": "VyOkIdYPZdsp",
        "colab": {
          "base_uri": "https://localhost:8080/"
        },
        "outputId": "9d97b83c-c065-4407-ba8e-aaa834f7a31d"
      },
      "source": [
        "#Use K-fold cross validation (default folds = 5, default scoring metric = accuracy) \n",
        "from sklearn.model_selection import cross_val_score\n",
        "\n",
        "score = cross_val_score(classifier, features_standardized, target)\n",
        "score.mean(), score.std()"
      ],
      "execution_count": null,
      "outputs": [
        {
          "output_type": "execute_result",
          "data": {
            "text/plain": [
              "(0.9278786430960345, 0.03551943709272783)"
            ]
          },
          "metadata": {},
          "execution_count": 15
        }
      ]
    },
    {
      "cell_type": "code",
      "metadata": {
        "id": "rqSRYkJeao8R",
        "colab": {
          "base_uri": "https://localhost:8080/"
        },
        "outputId": "31d2525a-6e4e-4886-b365-04da9d3285c5"
      },
      "source": [
        "#Use accuracy = (TP + TN)/(TP+TN+FP+FN) as the evaluation metric\n",
        "cross_val_score(classifier, features_standardized, target, scoring = \"accuracy\")"
      ],
      "execution_count": null,
      "outputs": [
        {
          "output_type": "execute_result",
          "data": {
            "text/plain": [
              "array([0.93478261, 0.88043478, 0.92307692, 0.91208791, 0.98901099])"
            ]
          },
          "metadata": {},
          "execution_count": 16
        }
      ]
    },
    {
      "cell_type": "code",
      "metadata": {
        "id": "8QCMv6Mva3VN",
        "colab": {
          "base_uri": "https://localhost:8080/"
        },
        "outputId": "39c737b1-7aab-4467-a159-4ed1f5f5c97a"
      },
      "source": [
        "#Use precision = TP/(TP+FP) as the evaluation metric\n",
        "cross_val_score(classifier, features_standardized, target, scoring = \"precision\")"
      ],
      "execution_count": null,
      "outputs": [
        {
          "output_type": "execute_result",
          "data": {
            "text/plain": [
              "array([0.8 , 0.25, 0.75, 0.6 , 1.  ])"
            ]
          },
          "metadata": {},
          "execution_count": 17
        }
      ]
    },
    {
      "cell_type": "code",
      "metadata": {
        "id": "51id66uabKy4",
        "colab": {
          "base_uri": "https://localhost:8080/"
        },
        "outputId": "3a485b9a-2795-42d7-b2f8-31d12c89da1e"
      },
      "source": [
        "#Use Sensitivity = TP/(TP + FN) as the evaluation metric\n",
        "cross_val_score(classifier, features_standardized, target, scoring = \"recall\")"
      ],
      "execution_count": null,
      "outputs": [
        {
          "output_type": "execute_result",
          "data": {
            "text/plain": [
              "array([0.44444444, 0.11111111, 0.33333333, 0.33333333, 0.875     ])"
            ]
          },
          "metadata": {},
          "execution_count": 18
        }
      ]
    },
    {
      "cell_type": "code",
      "metadata": {
        "id": "AsbeMwvrbPha",
        "colab": {
          "base_uri": "https://localhost:8080/"
        },
        "outputId": "3c4d7d94-12fa-4ef5-cdcc-4d9eeb5db9c7"
      },
      "source": [
        "#Use F measure = 2*(precision*recall/(precision+recall)) as the evaluation metric\n",
        "cross_val_score(classifier, features_standardized, target, scoring = \"f1\")"
      ],
      "execution_count": null,
      "outputs": [
        {
          "output_type": "execute_result",
          "data": {
            "text/plain": [
              "array([0.57142857, 0.15384615, 0.46153846, 0.42857143, 0.93333333])"
            ]
          },
          "metadata": {},
          "execution_count": 19
        }
      ]
    }
  ]
}
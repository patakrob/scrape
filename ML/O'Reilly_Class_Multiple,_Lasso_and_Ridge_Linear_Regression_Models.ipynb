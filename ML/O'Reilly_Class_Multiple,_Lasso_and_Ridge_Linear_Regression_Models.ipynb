{
  "nbformat": 4,
  "nbformat_minor": 0,
  "metadata": {
    "colab": {
      "name": "O'Reilly Class: Multiple, Lasso and Ridge Linear Regression Models",
      "provenance": [],
      "include_colab_link": true
    },
    "kernelspec": {
      "name": "python3",
      "display_name": "Python 3"
    }
  },
  "cells": [
    {
      "cell_type": "markdown",
      "metadata": {
        "id": "view-in-github",
        "colab_type": "text"
      },
      "source": [
        "<a href=\"https://colab.research.google.com/github/patakrob/scrape/blob/main/O'Reilly_Class_Multiple%2C_Lasso_and_Ridge_Linear_Regression_Models.ipynb\" target=\"_parent\"><img src=\"https://colab.research.google.com/assets/colab-badge.svg\" alt=\"Open In Colab\"/></a>"
      ]
    },
    {
      "cell_type": "markdown",
      "metadata": {
        "id": "8cEKLHguVXXa"
      },
      "source": [
        "# Import Libraries"
      ]
    },
    {
      "cell_type": "code",
      "metadata": {
        "id": "pxgRHy12PJfK"
      },
      "source": [
        "import numpy as np\n",
        "import pandas as pd\n",
        "from datetime import datetime\n",
        "\n",
        "import pandas_datareader.data as pdr\n",
        "!pip install yfinance\n",
        "import yfinance as yf\n",
        "\n",
        "import matplotlib.pyplot as plt\n",
        "plt.style.use('seaborn')"
      ],
      "execution_count": null,
      "outputs": []
    },
    {
      "cell_type": "markdown",
      "metadata": {
        "id": "qnroHaPZVjlA"
      },
      "source": [
        "#Import Data"
      ]
    },
    {
      "cell_type": "code",
      "metadata": {
        "id": "eGcDaP4vQjuX"
      },
      "source": [
        "start = datetime(2021, 4, 4)\n",
        "end = datetime(2021, 11, 3)\n",
        "\n",
        "stock = yf.Ticker('AAPL').history(start=start, end=end) #Apple Inc.\n",
        "market = yf.Ticker('SPY').history(start=start, end=end) #S&P 500 index. Broad market value weighted index that affects all stocks\n",
        "vix = yf.Ticker('VXX').history(start=start, end=end)   #Volatility index. The 30 day expected volatility of the market implied by option prices on the S&P 500\n",
        "dxy = yf.Ticker('UUP').history(start=start, end=end) #Dollar index. A weighted index of the value of the US dollar relative to a basket of major currencies\n",
        "junk = yf.Ticker('JNK').history(start=start, end=end)   #Junk bond index. An index of high yielding/risky corporate bonds"
      ],
      "execution_count": null,
      "outputs": []
    },
    {
      "cell_type": "markdown",
      "metadata": {
        "id": "qo5uRa28W3GV"
      },
      "source": [
        "#Train Model"
      ]
    },
    {
      "cell_type": "code",
      "metadata": {
        "id": "EX2JBnMfXHTi",
        "colab": {
          "base_uri": "https://localhost:8080/",
          "height": 237
        },
        "outputId": "0b168ad9-01cc-4f4f-af0e-f40d895b5cb9"
      },
      "source": [
        "#Creat target dataframe\n",
        "target = pd.DataFrame()\n",
        "target['return'] = stock['Close'].pct_change(1)*100 #data lagged by a day to avoid look-ahead bias\n",
        "target = target.dropna() #Drop NA in the first row\n",
        "target.head()"
      ],
      "execution_count": null,
      "outputs": [
        {
          "output_type": "execute_result",
          "data": {
            "text/html": [
              "<div>\n",
              "<style scoped>\n",
              "    .dataframe tbody tr th:only-of-type {\n",
              "        vertical-align: middle;\n",
              "    }\n",
              "\n",
              "    .dataframe tbody tr th {\n",
              "        vertical-align: top;\n",
              "    }\n",
              "\n",
              "    .dataframe thead th {\n",
              "        text-align: right;\n",
              "    }\n",
              "</style>\n",
              "<table border=\"1\" class=\"dataframe\">\n",
              "  <thead>\n",
              "    <tr style=\"text-align: right;\">\n",
              "      <th></th>\n",
              "      <th>return</th>\n",
              "    </tr>\n",
              "    <tr>\n",
              "      <th>Date</th>\n",
              "      <th></th>\n",
              "    </tr>\n",
              "  </thead>\n",
              "  <tbody>\n",
              "    <tr>\n",
              "      <th>2021-04-06</th>\n",
              "      <td>0.246223</td>\n",
              "    </tr>\n",
              "    <tr>\n",
              "      <th>2021-04-07</th>\n",
              "      <td>1.339037</td>\n",
              "    </tr>\n",
              "    <tr>\n",
              "      <th>2021-04-08</th>\n",
              "      <td>1.923379</td>\n",
              "    </tr>\n",
              "    <tr>\n",
              "      <th>2021-04-09</th>\n",
              "      <td>2.025158</td>\n",
              "    </tr>\n",
              "    <tr>\n",
              "      <th>2021-04-12</th>\n",
              "      <td>-1.323302</td>\n",
              "    </tr>\n",
              "  </tbody>\n",
              "</table>\n",
              "</div>"
            ],
            "text/plain": [
              "              return\n",
              "Date                \n",
              "2021-04-06  0.246223\n",
              "2021-04-07  1.339037\n",
              "2021-04-08  1.923379\n",
              "2021-04-09  2.025158\n",
              "2021-04-12 -1.323302"
            ]
          },
          "metadata": {},
          "execution_count": 13
        }
      ]
    },
    {
      "cell_type": "code",
      "metadata": {
        "id": "4PUC0AmibGxp",
        "colab": {
          "base_uri": "https://localhost:8080/",
          "height": 237
        },
        "outputId": "6c8cb67c-2c3e-4360-bb5e-9abd784c5625"
      },
      "source": [
        "#Create features dataframe\n",
        "features = pd.DataFrame()\n",
        "features['market'] = market['Close'].pct_change(1)*100\n",
        "features['vix'] = vix['Close'].diff() #VIX is volatility index and is measured in percentage terms so you only need to take the difference\n",
        "features['dxy'] = dxy['Close'].pct_change(1)*100\n",
        "features['junk'] = junk['Close'].pct_change(1)*100\n",
        "features = features.dropna() #Drop NA in the first row\n",
        "features.head()"
      ],
      "execution_count": null,
      "outputs": [
        {
          "output_type": "execute_result",
          "data": {
            "text/html": [
              "<div>\n",
              "<style scoped>\n",
              "    .dataframe tbody tr th:only-of-type {\n",
              "        vertical-align: middle;\n",
              "    }\n",
              "\n",
              "    .dataframe tbody tr th {\n",
              "        vertical-align: top;\n",
              "    }\n",
              "\n",
              "    .dataframe thead th {\n",
              "        text-align: right;\n",
              "    }\n",
              "</style>\n",
              "<table border=\"1\" class=\"dataframe\">\n",
              "  <thead>\n",
              "    <tr style=\"text-align: right;\">\n",
              "      <th></th>\n",
              "      <th>market</th>\n",
              "      <th>vix</th>\n",
              "      <th>dxy</th>\n",
              "      <th>junk</th>\n",
              "    </tr>\n",
              "    <tr>\n",
              "      <th>Date</th>\n",
              "      <th></th>\n",
              "      <th></th>\n",
              "      <th></th>\n",
              "      <th></th>\n",
              "    </tr>\n",
              "  </thead>\n",
              "  <tbody>\n",
              "    <tr>\n",
              "      <th>2021-04-06</th>\n",
              "      <td>-0.059056</td>\n",
              "      <td>0.000000</td>\n",
              "      <td>-0.240672</td>\n",
              "      <td>0.174718</td>\n",
              "    </tr>\n",
              "    <tr>\n",
              "      <th>2021-04-07</th>\n",
              "      <td>0.115724</td>\n",
              "      <td>-1.120003</td>\n",
              "      <td>0.120622</td>\n",
              "      <td>0.009180</td>\n",
              "    </tr>\n",
              "    <tr>\n",
              "      <th>2021-04-08</th>\n",
              "      <td>0.474682</td>\n",
              "      <td>-0.639999</td>\n",
              "      <td>-0.441762</td>\n",
              "      <td>0.036722</td>\n",
              "    </tr>\n",
              "    <tr>\n",
              "      <th>2021-04-09</th>\n",
              "      <td>0.727016</td>\n",
              "      <td>-0.079998</td>\n",
              "      <td>0.080672</td>\n",
              "      <td>-0.082593</td>\n",
              "    </tr>\n",
              "    <tr>\n",
              "      <th>2021-04-12</th>\n",
              "      <td>0.036456</td>\n",
              "      <td>-0.600002</td>\n",
              "      <td>-0.040307</td>\n",
              "      <td>-0.082633</td>\n",
              "    </tr>\n",
              "  </tbody>\n",
              "</table>\n",
              "</div>"
            ],
            "text/plain": [
              "              market       vix       dxy      junk\n",
              "Date                                              \n",
              "2021-04-06 -0.059056  0.000000 -0.240672  0.174718\n",
              "2021-04-07  0.115724 -1.120003  0.120622  0.009180\n",
              "2021-04-08  0.474682 -0.639999 -0.441762  0.036722\n",
              "2021-04-09  0.727016 -0.079998  0.080672 -0.082593\n",
              "2021-04-12  0.036456 -0.600002 -0.040307 -0.082633"
            ]
          },
          "metadata": {},
          "execution_count": 14
        }
      ]
    },
    {
      "cell_type": "code",
      "metadata": {
        "id": "mxSW85He9kAd",
        "colab": {
          "base_uri": "https://localhost:8080/"
        },
        "outputId": "5788a248-21c7-4c17-ef3a-2a0a6f40d26b"
      },
      "source": [
        "#Run multiple linear regression\n",
        "from sklearn.linear_model import LinearRegression\n",
        "from sklearn.model_selection import train_test_split\n",
        "\n",
        "regression = LinearRegression()\n",
        "features_train, features_test, target_train, target_test = train_test_split(features, target, test_size = 0.25, random_state=0)\n",
        "\n",
        "#Model is trained on 75% of the data\n",
        "model = regression.fit(features_train, target_train)\n",
        "\n",
        "print(\"Model Intercept:\", model.intercept_)\n",
        "print(\"Model Coefficients:\", model.coef_)"
      ],
      "execution_count": null,
      "outputs": [
        {
          "output_type": "stream",
          "name": "stdout",
          "text": [
            "Model Intercept: [-0.01440816]\n",
            "Model Coefficients: [[ 1.49020717  0.07259522 -0.10914577 -0.22047601]]\n"
          ]
        }
      ]
    },
    {
      "cell_type": "markdown",
      "metadata": {
        "id": "Co3C05Pda6Xg"
      },
      "source": [
        "#Evaluate Model"
      ]
    },
    {
      "cell_type": "code",
      "metadata": {
        "colab": {
          "base_uri": "https://localhost:8080/"
        },
        "id": "m7ViKzoi5xtz",
        "outputId": "2621ef13-c140-401f-8755-e375a8e10fd9"
      },
      "source": [
        "#Use default R2 performance metric\n",
        "print(\"Training score: \", model.score(features_train, target_train))\n",
        "print(\"Test score: \", model.score(features_test, target_test))"
      ],
      "execution_count": null,
      "outputs": [
        {
          "output_type": "stream",
          "name": "stdout",
          "text": [
            "Training score:  0.5423937563700386\n",
            "Test score:  0.5579060612119445\n"
          ]
        }
      ]
    },
    {
      "cell_type": "markdown",
      "metadata": {
        "id": "SyP17beTAJkV"
      },
      "source": [
        "#Lasso Regression/L1 Regularization"
      ]
    },
    {
      "cell_type": "code",
      "metadata": {
        "id": "atoWcOZRoM59",
        "colab": {
          "base_uri": "https://localhost:8080/"
        },
        "outputId": "3115d532-23e6-41b1-f1c3-5d91f217adbb"
      },
      "source": [
        "#Remove less informative features with Lasso Regression\n",
        "from sklearn.linear_model import Lasso\n",
        "from sklearn.preprocessing import StandardScaler\n",
        "\n",
        "scaler = StandardScaler() #Scales input data so that it is has a mean of zero and variance of one\n",
        "features_standardized = scaler.fit_transform(features) #Every feature now has zero mean and unit variance\n",
        "lasso_regression = Lasso (alpha = 0.1) #alpha is a hyperparameter (default = 1). Increasing alpha increases regularization\n",
        "\n",
        "features_standardized_train, features_standardized_test, target_train, target_test = train_test_split(features_standardized, target, test_size=0.25, random_state=0)\n",
        "lasso_model = lasso_regression.fit(features_standardized_train, target_train)\n",
        "\n",
        "print(\"Lasso model intercept:\", lasso_model.intercept_)\n",
        "print(\"Lasso model coefficients:\", lasso_model.coef_)\n",
        "\n",
        "print(\"Lasso training score: \", lasso_model.score(features_standardized_train, target_train))\n",
        "print(\"Lasso test score: \", lasso_model.score(features_standardized_test, target_test))"
      ],
      "execution_count": null,
      "outputs": [
        {
          "output_type": "stream",
          "name": "stdout",
          "text": [
            "Lasso model intercept: [0.11295063]\n",
            "Lasso model coefficients: [ 0.82069163 -0.         -0.          0.        ]\n",
            "Lasso training score:  0.5329036902899487\n",
            "Lasso test score:  0.5451706690104516\n"
          ]
        }
      ]
    },
    {
      "cell_type": "markdown",
      "metadata": {
        "id": "bly1MMLUEY78"
      },
      "source": [
        "#Ridge Regression/L2 Regularization"
      ]
    },
    {
      "cell_type": "code",
      "metadata": {
        "id": "TENwnv-bqCF7",
        "colab": {
          "base_uri": "https://localhost:8080/"
        },
        "outputId": "d182e84f-4330-493a-9f9a-865db8dfd264"
      },
      "source": [
        "#Reduce effects of all coefficients/collinearity with Ridge Regression\n",
        "from sklearn.linear_model import Ridge\n",
        "\n",
        "ridge_regression = Ridge (alpha=10) #alpha is a hyperparameter. Increasing it increases regularization\n",
        "\n",
        "features_standardized_train, features_standardized_test, target_train, target_test = train_test_split(features_standardized, target, test_size=0.25, random_state=0)\n",
        "ridge_model = ridge_regression.fit(features_standardized_train, target_train)\n",
        "\n",
        "print(\"Ridge model intercept:\", ridge_model.intercept_)\n",
        "print(\"Ridge model coefficients:\", ridge_model.coef_)\n",
        "\n",
        "print(\"Ridge training score: \", ridge_model.score(features_standardized_train, target_train))\n",
        "print(\"Ridge test score: \", ridge_model.score(features_standardized_test, target_test))"
      ],
      "execution_count": null,
      "outputs": [
        {
          "output_type": "stream",
          "name": "stdout",
          "text": [
            "Ridge model intercept: [0.10985986]\n",
            "Ridge model coefficients: [[ 0.76572876 -0.049869   -0.04121561  0.04678478]]\n",
            "Ridge training score:  0.5317814889169699\n",
            "Ridge test score:  0.5411044713799371\n"
          ]
        }
      ]
    }
  ]
}